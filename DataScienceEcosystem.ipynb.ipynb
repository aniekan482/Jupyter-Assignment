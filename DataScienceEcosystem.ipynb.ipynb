{
 "cells": [
  {
   "cell_type": "markdown",
   "id": "ae2c53bd-9e7a-4d32-8e8c-5969ff03742a",
   "metadata": {
    "tags": []
   },
   "source": [
    "# Data Science Tools and Ecosystem"
   ]
  },
  {
   "cell_type": "markdown",
   "id": "85bb1d2e-2388-42e2-9493-980f465f7b5c",
   "metadata": {},
   "source": [
    "#### In this notebook, Data Science Tools and Ecosystem are summarized."
   ]
  },
  {
   "cell_type": "markdown",
   "id": "6be8dd11-d562-4749-98ea-6d4e0d3ddb06",
   "metadata": {},
   "source": [
    "**Objectives:**\n",
    "- List popular languages for Data Science\n",
    "- Some of the commonly used libraries used by Data Scientists\n",
    "- Data Science Tools\n",
    "- Evaluating arithmetic expressions"
   ]
  },
  {
   "cell_type": "markdown",
   "id": "4dfe5ae2-6e66-4a1d-92da-11c3a19114d3",
   "metadata": {
    "tags": []
   },
   "source": [
    "#### Some of the popular languages that Data Scientists use are:\n",
    "1. **JAVA**\n",
    "2. **C++**\n",
    "3. **JAVASCRIPT**"
   ]
  },
  {
   "cell_type": "markdown",
   "id": "81ca4ffd-5cf3-4f16-a603-4fb5d8656f05",
   "metadata": {
    "tags": []
   },
   "source": [
    "#### Some of the commonly used libraries used by Data Scientists include:\n",
    "1. **NumPy**\n",
    "2. **Pandas**\n",
    "3. **Scipy**"
   ]
  },
  {
   "cell_type": "markdown",
   "id": "850a607b-4cc9-43ce-ab1e-f3753a49c5e0",
   "metadata": {},
   "source": [
    "|**Data Science Tools**|\n",
    "------------------------\n",
    "|**H2O.ai**|\n",
    "|**Redhat OpenShift**|\n",
    "|**Seldon**|"
   ]
  },
  {
   "cell_type": "markdown",
   "id": "628799bd-14aa-4a1c-93da-caa39762e300",
   "metadata": {},
   "source": [
    "### Below are a few examples of evaluating arithmetic expressions in Python"
   ]
  },
  {
   "cell_type": "code",
   "execution_count": 6,
   "id": "c42f08c0-099b-4575-940f-ad330f6fcf15",
   "metadata": {
    "tags": []
   },
   "outputs": [],
   "source": [
    "#  \"This a simple arithmetic expression to mutiply then add integers\""
   ]
  },
  {
   "cell_type": "code",
   "execution_count": 7,
   "id": "5f32ca4a-55b5-4176-b336-8c493fc17b3f",
   "metadata": {
    "tags": []
   },
   "outputs": [
    {
     "data": {
      "text/plain": [
       "17"
      ]
     },
     "execution_count": 7,
     "metadata": {},
     "output_type": "execute_result"
    }
   ],
   "source": [
    "(3*4)+5"
   ]
  },
  {
   "cell_type": "code",
   "execution_count": null,
   "id": "bdb206c3-43fd-4f4e-85ea-979db1e7cba4",
   "metadata": {},
   "outputs": [],
   "source": [
    "# \"This will convert 200 minutes to hours by diving by 60.\""
   ]
  },
  {
   "cell_type": "code",
   "execution_count": 21,
   "id": "eb32afe5-0aeb-4ba8-a52b-c46e56a85285",
   "metadata": {
    "tags": []
   },
   "outputs": [
    {
     "data": {
      "text/plain": [
       "3.3333333333333335"
      ]
     },
     "execution_count": 21,
     "metadata": {},
     "output_type": "execute_result"
    }
   ],
   "source": [
    "(200/60)"
   ]
  },
  {
   "cell_type": "code",
   "execution_count": null,
   "id": "39d65628-a824-4eea-8d95-c3a43c8f6c2a",
   "metadata": {},
   "outputs": [],
   "source": [
    "## Author\n",
    "UBI-ABAI Aniekan Ime"
   ]
  }
 ],
 "metadata": {
  "kernelspec": {
   "display_name": "Python 3 (ipykernel)",
   "language": "python",
   "name": "python3"
  },
  "language_info": {
   "codemirror_mode": {
    "name": "ipython",
    "version": 3
   },
   "file_extension": ".py",
   "mimetype": "text/x-python",
   "name": "python",
   "nbconvert_exporter": "python",
   "pygments_lexer": "ipython3",
   "version": "3.11.4"
  }
 },
 "nbformat": 4,
 "nbformat_minor": 5
}
